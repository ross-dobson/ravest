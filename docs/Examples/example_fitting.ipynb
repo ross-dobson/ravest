{
 "cells": [
  {
   "cell_type": "markdown",
   "metadata": {},
   "source": [
    "# Example of fitting: 51 Pegasi b\n",
    "\n",
    "The ELODIE data and parameters used in this example notebook for 51 Peg b were obtained from [Birkby et al. 2017](http://doi.org/10.3847/1538-3881/aa5c87)."
   ]
  },
  {
   "cell_type": "code",
   "execution_count": null,
   "metadata": {},
   "outputs": [],
   "source": [
    "from ravest.model import Planet, Star, Trend, calculate_mpsini\n",
    "from ravest.fit import Fitter\n",
    "from ravest.param import Parameter, Parameterisation\n",
    "import ravest.prior\n",
    "\n",
    "import numpy as np\n",
    "import matplotlib.pyplot as plt\n",
    "import pandas as pd"
   ]
  },
  {
   "cell_type": "markdown",
   "metadata": {},
   "source": [
    "Import and inspect the data"
   ]
  },
  {
   "cell_type": "code",
   "execution_count": null,
   "metadata": {},
   "outputs": [],
   "source": [
    "data = pd.read_csv('example_data/51Pegb.txt', delimiter='\\s+', )\n",
    "data"
   ]
  },
  {
   "cell_type": "code",
   "execution_count": null,
   "metadata": {},
   "outputs": [],
   "source": [
    "plt.figure(figsize=(15,3.5))\n",
    "plt.title(\"51 Peg b ELODIE data\")\n",
    "plt.ylabel(\"Radial Velocity [m/s]\")\n",
    "plt.xlabel(\"BJD_TDB\")\n",
    "plt.errorbar(data[\"time\"], data[\"vel\"], yerr=data[\"verr\"], marker=\".\", linestyle=\"None\")\n",
    "plt.show()"
   ]
  },
  {
   "cell_type": "code",
   "execution_count": null,
   "metadata": {},
   "outputs": [],
   "source": [
    "fitter = Fitter(planet_letters=[\"b\"], parameterisation=Parameterisation(\"per k e w tc\"))\n",
    "fitter.add_data(time=data[\"time\"], vel=data[\"vel\"], verr=data[\"verr\"], t0=np.mean(data[\"time\"]))\n",
    "print(\"t0:\", fitter.t0)\n",
    "\n",
    "# Construct the params dict\n",
    "# These values will be used as your initial guess for the fit\n",
    "params = {\"per_b\": Parameter(4.23, \"d\", fixed=False),\n",
    "          \"k_b\": Parameter(60, \"m/s\", fixed=False),\n",
    "          \"e_b\": Parameter(0, \"\", fixed=True),\n",
    "          \"w_b\": Parameter(np.pi/2, \"rad\", fixed=True),\n",
    "          \"tc_b\": Parameter(2456326.9, \"d\", fixed=False),\n",
    "          \n",
    "          \"g\": Parameter(-33251.9, \"m/s\", fixed=False),\n",
    "          \"gd\": Parameter(0, \"m/s/day\", fixed=True),\n",
    "          \"gdd\": Parameter(0, \"m/s/day^2\", fixed=True),\n",
    "          \"jit\": Parameter(0, \"m/s\", fixed=True),}\n",
    "\n",
    "fitter.add_params(params)\n",
    "fitter.params"
   ]
  },
  {
   "cell_type": "code",
   "execution_count": null,
   "metadata": {},
   "outputs": [],
   "source": [
    "# Construct the priors dict. Every parameter that isn't fixed requires a prior.\n",
    "priors = {\n",
    "          \"per_b\": ravest.prior.Gaussian(4.2293, 0.0011),\n",
    "          \"k_b\": ravest.prior.Uniform(0,100),\n",
    "          \"tc_b\": ravest.prior.Uniform(2456326.9-(4.2293), 2456326.9+(4.2293)),\n",
    "          \"g\": ravest.prior.Uniform(-33260, -33240),\n",
    "        }\n",
    "\n",
    "fitter.add_priors(priors)\n",
    "fitter.priors"
   ]
  },
  {
   "cell_type": "markdown",
   "metadata": {},
   "source": [
    "Now that we have loaded the `Fitter` with the data, our parameterisation, our initial parameter values, and priors for each of the free parameters, we can now fit the free parameters of the model to the data. First, Maximum A Posteriori (MAP) optimisation is performed to find the best-fit solution. Then, MCMC is used to explore the parameter space and estimate the parameter uncertainties. This can take a few minutes, you can enable a progress bar with `progress=True`."
   ]
  },
  {
   "cell_type": "code",
   "execution_count": null,
   "metadata": {},
   "outputs": [],
   "source": [
    "nwalkers = 2 * len(fitter.get_free_params_dict())\n",
    "nsteps = 5000\n",
    "\n",
    "# Fit the free parameters to the data\n",
    "samples = fitter.fit_model_to_data(nwalkers=8, nsteps=nsteps, progress=False)  # This will take a while!"
   ]
  },
  {
   "cell_type": "markdown",
   "metadata": {},
   "source": [
    "Now that the MCMC is finished, the `emcee` sampler has been saved into the `Fitter` object. We can therefore interact with it in the usual way to export the samples, as a numpy array that can be passed into other functions (such as for comparing two models by calculating the Bayesian evidence - example notebook coming soon!). We can also export them into a Pandas dataframe, which keeps each parameter labelled. In both cases, we can pass in the `discard` and `thin` arguments as desired."
   ]
  },
  {
   "cell_type": "code",
   "execution_count": null,
   "metadata": {},
   "outputs": [],
   "source": [
    "# Get the results from the sampler, as a numpy array\n",
    "samples = fitter.sampler.get_chain(discard=0)\n",
    "\n",
    "# Get the samples as a labelled Pandas dataframe\n",
    "samples_df = fitter.get_samples_df(discard=0, thin=1)\n",
    "samples_df"
   ]
  },
  {
   "cell_type": "markdown",
   "metadata": {},
   "source": [
    "To inspect the chains visually, we can plot (and optionally save) the time series of each parameter in the chain."
   ]
  },
  {
   "cell_type": "code",
   "execution_count": null,
   "metadata": {},
   "outputs": [],
   "source": [
    "fitter.plot_chains(discard=0, save=False)"
   ]
  },
  {
   "cell_type": "markdown",
   "metadata": {},
   "source": [
    "We can also visualise (and optionally save) the posterior parameter distributions in corner plots, using the `corner` module."
   ]
  },
  {
   "cell_type": "code",
   "execution_count": null,
   "metadata": {},
   "outputs": [],
   "source": [
    "fitter.plot_corner(discard=0, save=False)"
   ]
  },
  {
   "cell_type": "markdown",
   "metadata": {},
   "source": [
    "Inspecting the conjunction time $t_{c}$, we can see that we shouldn't always take the automatically generated value and error (the 16th, 50th and 84th percentiles). It's a good idea to inspect the posterior distribution visually with the corner plots. For further analysis and inspection, recall we can get a dataframe of the samples, e.g. to plot them in a histogram, with the `Fitter.get_samples_df()` method we saw earlier."
   ]
  },
  {
   "cell_type": "markdown",
   "metadata": {},
   "source": [
    "## Calculate $M_p\\sin{i}$\n",
    "Now that we have fitted for the parameters, we can investigate the $M_p\\sin{i}$ of 51 Peg b. To do this, we'll pass in the samples from the `Fitter` for the parameters we need. We also need the stellar mass, which I've again obtained from Birkby et al. 2017.\n",
    "\n",
    "$$ M_p\\sin{i}=K\\sqrt{1-e^2}\\left(\\frac{PM^2_*}{2\\pi G}\\right)^{1/3} $$"
   ]
  },
  {
   "cell_type": "code",
   "execution_count": null,
   "metadata": {},
   "outputs": [],
   "source": [
    "# Stellar mass [solar masses] from Birkby et al. 2017.\n",
    "mass_star_val = 1.11\n",
    "mass_star_err = 0.066\n",
    "\n",
    "# Create a distribution to ensure the uncertainty in the stellar mass is captured in the mpsini uncertainty\n",
    "mass_star = np.random.normal(loc=mass_star_val, scale=mass_star_err, size=len(samples_df))\n",
    "\n",
    "# Get the fixed parameters, as some of the params needed for mpsini were fixed\n",
    "fixed_params = fitter.get_fixed_params_dict()\n",
    "\n",
    "# Calculate the mpsini value\n",
    "mpsini_unit = \"M_jupiter\"  # must be M_jupiter or M_earth\n",
    "mpsini = calculate_mpsini(mass_star, samples_df[\"per_b\"], samples_df[\"k_b\"], fixed_params[\"e_b\"].value, unit=\"M_jupiter\")\n",
    "\n",
    "# Calculate the knuth bin width for histogram plotting\n",
    "from astropy.stats import knuth_bin_width\n",
    "width, edges = knuth_bin_width(mpsini, return_bins=True)\n",
    "\n",
    "# Let's plot the mpsini posterior distribution in a histogram\n",
    "fig, ax = plt.subplots(1, 1)\n",
    "ax.set_title(\"Minimum mass estimate $M_p\\sin{i}$ for 51 Peg b\")\n",
    "ax.set_xlabel(\"$M_p \\sin(i)$ [M$_J$]\")\n",
    "ax.set_ylabel(\"Frequency\")\n",
    "plot = ax.hist(mpsini, bins=edges, color=\"tab:blue\", alpha=0.7)\n",
    "\n",
    "# Let's overplot the 16th, 50th and 84th percentiles\n",
    "ps = np.percentile(mpsini, [16, 50, 84])\n",
    "# Search for the heights of the bins in which the percentiles are located\n",
    "heights = plot[0][np.searchsorted(plot[1], ps, side='left')-1]\n",
    "# The line height will be bin-height / y_bound\n",
    "_, ymax = ax.get_ybound()\n",
    "ax.axvline(ps[0], label='16%', color='blue', linestyle=':', linewidth=2, ymax=heights[0] / ymax)\n",
    "ax.axvline(ps[1], label='50%', color='blue', linestyle='--', linewidth=2, ymax=heights[1] / ymax)\n",
    "ax.axvline(ps[2], label='84%', color='blue', linestyle=':', linewidth=2, ymax=heights[2] / ymax)\n",
    "plt.legend()\n",
    "print(f\"51 peg b Mpsini: {ps[1]:} +{ps[2]-ps[1]:.1g} -{ps[1]-ps[0]:.1g} M_jupiter\")"
   ]
  }
 ],
 "metadata": {
  "kernelspec": {
   "display_name": "ravest",
   "language": "python",
   "name": "python3"
  },
  "language_info": {
   "codemirror_mode": {
    "name": "ipython",
    "version": 3
   },
   "file_extension": ".py",
   "mimetype": "text/x-python",
   "name": "python",
   "nbconvert_exporter": "python",
   "pygments_lexer": "ipython3",
   "version": "3.10.14"
  }
 },
 "nbformat": 4,
 "nbformat_minor": 2
}
