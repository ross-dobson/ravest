{
    "cells": [
        {
            "cell_type": "markdown",
            "metadata": {},
            "source": [
                "# Example of modelling: TOI-270"
            ]
        },
        {
            "cell_type": "code",
            "execution_count": null,
            "metadata": {},
            "outputs": [],
            "source": [
                "import numpy as np\n",
                "import matplotlib.pyplot as plt\n",
                "plt.rcParams[\"figure.figsize\"] = (10,5)"
            ]
        },
        {
            "cell_type": "markdown",
            "metadata": {},
            "source": [
                "To define a star:"
            ]
        },
        {
            "cell_type": "code",
            "execution_count": null,
            "metadata": {},
            "outputs": [],
            "source": [
                "from ravest.model import Star\n",
                "\n",
                "star = Star(name=\"TOI-270\", mass=0.386)\n",
                "print(star)"
            ]
        },
        {
            "cell_type": "markdown",
            "metadata": {},
            "source": [
                "Let's define some planets. These parameter values for TOI-270 b, c, and d were obtained from [Van Eylen et al. 2021](https://doi.org/10.1093/mnras/stab2143). The full list of parameterisations supported can be seen at `ravest.basis.BASIS_STR`."
            ]
        },
        {
            "cell_type": "code",
            "execution_count": null,
            "metadata": {},
            "outputs": [],
            "source": [
                "from ravest.model import Planet\n",
                "from ravest.basis import Basis\n",
                "\n",
                "basis = Basis(\"per k e w tc\")\n",
                "\n",
                "planet_b = Planet(letter=\"b\", basis=basis, params={\"per\": 3.3601538, \"k\": 1.27, \"e\": 0.034, \"w\": 0,   \"tc\": 2458387.09505})\n",
                "planet_c = Planet(letter=\"c\", basis=basis, params={\"per\": 5.6605731, \"k\": 4.16, \"e\": 0.027, \"w\": 0.2, \"tc\": 2458389.50285})\n",
                "planet_d = Planet(letter=\"d\", basis=basis, params={\"per\": 11.379573, \"k\": 2.56, \"e\": 0.032, \"w\":-0.1, \"tc\": 2458389.68186})"
            ]
        },
        {
            "cell_type": "markdown",
            "metadata": {},
            "source": [
                "We can see what the radial velocity would be due to the effect of one of the planets:"
            ]
        },
        {
            "cell_type": "code",
            "execution_count": null,
            "metadata": {},
            "outputs": [],
            "source": [
                "times = np.linspace(2458774, 2458874, 1000)\n",
                "\n",
                "plt.figure()\n",
                "plt.title(planet_d)\n",
                "plt.xlabel(\"Time\")\n",
                "plt.ylabel(\"Radial velocity [m/s]\")\n",
                "plt.plot(times, planet_d.radial_velocity(times))"
            ]
        },
        {
            "cell_type": "markdown",
            "metadata": {},
            "source": [
                "Let's add the planets to the star, and use that to model the combined radial velocity that we would see, due to the effect of all of the planets. Notice that we also define a `Trend` object. This can store a constant velocity offset $\\gamma$ ($\\rm{ms}^{-1}$), a linear trend $\\dot{\\gamma}$, ($\\rm{ms}^{-1}/\\rm{day}$), and a quadratic trend $\\ddot{\\gamma}$ ($\\rm{ms}^{-1}/\\rm{day}^2$) which are often instrumental contributions, or possibly undetected long-period companions."
            ]
        },
        {
            "cell_type": "code",
            "execution_count": null,
            "metadata": {},
            "outputs": [],
            "source": [
                "star.add_planet(planet_b)\n",
                "star.add_planet(planet_c)\n",
                "star.add_planet(planet_d)\n",
                "\n",
                "from ravest.model import Trend\n",
                "star.add_trend(Trend(params={\"g\":0, \"gd\":0, \"gdd\":0}))\n",
                "\n",
                "plt.figure()\n",
                "plt.title(star)\n",
                "plt.xlabel(\"Time\")\n",
                "plt.ylabel(\"Radial velocity [m/s]\")\n",
                "plt.plot(times, star.radial_velocity(times))"
            ]
        },
        {
            "cell_type": "markdown",
            "metadata": {},
            "source": [
                "If we had some observed data, we can plot the data on top of the system RV model, and look at the residuals and generate phase plots for each planet. As a quick example, I've generated some example data for the TOI-270 system."
            ]
        },
        {
            "cell_type": "code",
            "execution_count": null,
            "metadata": {},
            "outputs": [],
            "source": [
                "ti, rv, err = np.loadtxt(\"example_data/TOI270.txt\")\n",
                "star.phase_plot(ti, rv, err)"
            ]
        }
    ],
    "metadata": {
        "kernelspec": {
            "display_name": "Python 3",
            "language": "python",
            "name": "python3"
        },
        "language_info": {
            "codemirror_mode": {
                "name": "ipython",
                "version": 3
            },
            "file_extension": ".py",
            "mimetype": "text/x-python",
            "name": "python",
            "nbconvert_exporter": "python",
            "pygments_lexer": "ipython3",
            "version": "3.9.-1"
        }
    },
    "nbformat": 4,
    "nbformat_minor": 4
}
