{
    "cells": [
        {
            "cell_type": "markdown",
            "metadata": {},
            "source": [
                "# Modelling exoplanets and host star"
            ]
        },
        {
            "cell_type": "markdown",
            "metadata": {},
            "source": [
                "To define a star:"
            ]
        },
        {
            "cell_type": "code",
            "execution_count": null,
            "metadata": {},
            "outputs": [],
            "source": [
                "import numpy as np\n",
                "from ravest.model import Star\n",
                "\n",
                "star = Star(name=\"TOI-270\", mass=0.386)\n",
                "print(star)"
            ]
        },
        {
            "cell_type": "markdown",
            "metadata": {},
            "source": [
                "To do anything interesting, we need to define some planets:"
            ]
        },
        {
            "cell_type": "code",
            "execution_count": null,
            "metadata": {},
            "outputs": [],
            "source": [
                "from ravest.model import Planet\n",
                "\n",
                "planet_b = Planet(letter=\"b\", basis=\"p k e w tp\", params={\"p\": 3.3601538, \"k\": 1.27, \"e\": 0.034, \"w\": 0,   \"tp\": 2458386.2913699285})\n",
                "planet_c = Planet(letter=\"c\", basis=\"p k e w tp\", params={\"p\": 5.6605731, \"k\": 4.16, \"e\": 0.027, \"w\": 0.2, \"tp\": 2458388.315370998})\n",
                "planet_d = Planet(letter=\"d\", basis=\"p k e w tp\", params={\"p\": 11.379573, \"k\": 2.56, \"e\": 0.032, \"w\":-0.1, \"tp\": 2458386.7714448916})"
            ]
        },
        {
            "cell_type": "markdown",
            "metadata": {},
            "source": [
                "We can see what the radial velocity would be due to the effect of a planet:"
            ]
        },
        {
            "cell_type": "code",
            "execution_count": null,
            "metadata": {},
            "outputs": [],
            "source": [
                "import matplotlib.pyplot as plt\n",
                "plt.rcParams[\"figure.figsize\"] = (10,5)\n",
                "times = np.linspace(2458774, 2458874, 1000)\n",
                "\n",
                "plt.figure()\n",
                "plt.title(planet_d)\n",
                "plt.xlabel(\"Time\")\n",
                "plt.ylabel(\"Radial velocity [m/s]\")\n",
                "plt.plot(times, planet_d.radial_velocity(times))"
            ]
        },
        {
            "cell_type": "markdown",
            "metadata": {},
            "source": [
                "Let's add the planets to the star, and use that to model the combined radial velocity that we would see, due to the effect of all of the planets."
            ]
        },
        {
            "cell_type": "code",
            "execution_count": null,
            "metadata": {},
            "outputs": [],
            "source": [
                "star.add_planet(planet_b)\n",
                "star.add_planet(planet_c)\n",
                "star.add_planet(planet_d)\n",
                "\n",
                "plt.figure()\n",
                "plt.title(star)\n",
                "plt.xlabel(\"Time\")\n",
                "plt.ylabel(\"Radial velocity [m/s]\")\n",
                "plt.plot(times, star.radial_velocity(times))"
            ]
        },
        {
            "cell_type": "markdown",
            "metadata": {},
            "source": [
                "If we had some observed data, we could see how well it fits the system and each individual planetary signal."
            ]
        },
        {
            "cell_type": "code",
            "execution_count": null,
            "metadata": {},
            "outputs": [],
            "source": [
                "ti, rv, err = np.loadtxt(\"example_data/TOI270.txt\")\n",
                "star.phase_plot(ti, rv, err)"
            ]
        }
    ],
    "metadata": {
        "kernelspec": {
            "display_name": "Python 3",
            "language": "python",
            "name": "python3"
        },
        "language_info": {
            "codemirror_mode": {
                "name": "ipython",
                "version": 3
            },
            "file_extension": ".py",
            "mimetype": "text/x-python",
            "name": "python",
            "nbconvert_exporter": "python",
            "pygments_lexer": "ipython3",
            "version": "3.9.18"
        }
    },
    "nbformat": 4,
    "nbformat_minor": 4
}
