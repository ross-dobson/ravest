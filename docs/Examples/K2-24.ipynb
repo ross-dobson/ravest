{
 "cells": [
  {
   "cell_type": "markdown",
   "metadata": {},
   "source": [
    "# K2-24\n",
    "\n",
    "RadVel and exoplanet both have excellent tutorials where they fit for the two planets b and c of the K2-24 system. We will do the same here to show how to fit RV data in Ravest.\n",
    "\n",
    "**Links:**  \n",
    "K2-24 paper (Petigura et al. 2015): https://arxiv.org/abs/1511.04497  \n",
    "RadVel tutorial: https://radvel.readthedocs.io/en/latest/tutorials/K2-24_Fitting+MCMC.html  \n",
    "exoplanet tutorial: https://gallery.exoplanet.codes/tutorials/rv/  "
   ]
  },
  {
   "cell_type": "code",
   "execution_count": null,
   "metadata": {},
   "outputs": [],
   "source": [
    "import matplotlib.pyplot as plt\n",
    "import numpy as np\n",
    "import pandas as pd\n",
    "\n",
    "import ravest.prior\n",
    "from ravest.fit import Fitter\n",
    "from ravest.model import calculate_mpsini\n",
    "from ravest.param import Parameter, Parameterisation"
   ]
  },
  {
   "cell_type": "markdown",
   "metadata": {},
   "source": [
    "Import the data"
   ]
  },
  {
   "cell_type": "code",
   "execution_count": null,
   "metadata": {},
   "outputs": [],
   "source": [
    "url = \"https://raw.githubusercontent.com/California-Planet-Search/radvel/master/example_data/epic203771098.csv\"\n",
    "data = pd.read_csv(url, usecols=[1,2,3], names=[\"errvel\", \"time\", \"vel\"], skiprows=1)\n",
    "data"
   ]
  },
  {
   "cell_type": "code",
   "execution_count": null,
   "metadata": {},
   "outputs": [],
   "source": [
    "plt.figure(figsize=(15,3.5))\n",
    "plt.title(\"K2-24 radial velocity data\")\n",
    "plt.ylabel(\"Radial Velocity [m/s]\")\n",
    "plt.xlabel(\"BJD_TDB - 2454833\")\n",
    "plt.errorbar(data[\"time\"], data[\"vel\"], yerr=data[\"errvel\"], marker=\".\", linestyle=\"None\")\n",
    "plt.show()"
   ]
  },
  {
   "cell_type": "markdown",
   "metadata": {},
   "source": [
    "Create a `Fitter` object, and choose which parameterisation to fit with, whether to fix or fit for each parameter, and the initial parameter values. We can fit a circular model by fixing eccentricity $e=0$ (the argument of periapsis $\\omega_\\star$ is now degenerate and can be fixed at any value, by convention we fix at $\\pi/2$.) The reference zero-point time `t0` is used for linear and quadratic trends terms $\\dot{\\gamma}$ and $\\ddot{\\gamma}$."
   ]
  },
  {
   "cell_type": "code",
   "execution_count": null,
   "metadata": {},
   "outputs": [],
   "source": [
    "fitter = Fitter(planet_letters=[\"b\",\"c\"], parameterisation=Parameterisation(\"per k e w tc\"))\n",
    "fitter.add_data(time=data[\"time\"].to_numpy(), \n",
    "                vel=data[\"vel\"].to_numpy(), \n",
    "                verr=data[\"errvel\"].to_numpy(), \n",
    "                t0=2420)\n",
    "\n",
    "# Construct the params dict\n",
    "# These values will be used as your initial guess for the fit\n",
    "params = {\"per_b\": Parameter(20.8851, \"d\", fixed=True),\n",
    "          \"k_b\": Parameter(10, \"m/s\", fixed=False),\n",
    "          \"e_b\": Parameter(0, \"\", fixed=True),\n",
    "          \"w_b\": Parameter(np.pi/2, \"rad\", fixed=True),\n",
    "          \"tc_b\": Parameter(2072.7948, \"d\", fixed=True),\n",
    "\n",
    "          \"per_c\": Parameter(42.3633, \"d\", fixed=True),\n",
    "          \"k_c\": Parameter(10, \"m/s\", fixed=False),\n",
    "          \"e_c\": Parameter(0, \"\", fixed=True),\n",
    "          \"w_c\": Parameter(np.pi/2, \"rad\", fixed=True),\n",
    "          \"tc_c\": Parameter(2082.6251, \"d\", fixed=True),\n",
    "          \n",
    "          \"g\": Parameter(0, \"m/s\", fixed=False),\n",
    "          \"gd\": Parameter(0, \"m/s/day\", fixed=False),\n",
    "          \"gdd\": Parameter(0, \"m/s/day^2\", fixed=True),\n",
    "          \n",
    "          \"jit\": Parameter(0, \"m/s\", fixed=False),}\n",
    "\n",
    "fitter.params = params\n",
    "fitter.params"
   ]
  },
  {
   "cell_type": "markdown",
   "metadata": {},
   "source": [
    "Define the prior functions for the free parameters. You can see a list of available prior functions at `ravest.prior.PRIOR_FUNCTIONS`."
   ]
  },
  {
   "cell_type": "code",
   "execution_count": null,
   "metadata": {},
   "outputs": [],
   "source": [
    "ravest.prior.PRIOR_FUNCTIONS"
   ]
  },
  {
   "cell_type": "code",
   "execution_count": null,
   "metadata": {},
   "outputs": [],
   "source": [
    "# Construct the priors dict. Every parameter that isn't fixed requires a prior.\n",
    "priors = {\n",
    "          \"k_b\": ravest.prior.Uniform(0,20),\n",
    "          \"k_c\": ravest.prior.Uniform(0,20),\n",
    "\n",
    "          \"g\": ravest.prior.Uniform(-10, 10),\n",
    "          \"gd\": ravest.prior.Uniform(-1, 1),\n",
    "          \n",
    "          \"jit\": ravest.prior.Uniform(0, 5),\n",
    "         }\n",
    "\n",
    "fitter.priors = priors\n",
    "fitter.priors"
   ]
  },
  {
   "cell_type": "markdown",
   "metadata": {},
   "source": [
    "Now that we have loaded the `Fitter` with the data, our parameterisation, our initial parameter values, and priors for each of the free parameters, we can now fit the free parameters of the model to the data.  \n",
    "  \n",
    "First, Maximum A Posteriori (MAP) optimisation is performed to find the best-fit solution."
   ]
  },
  {
   "cell_type": "code",
   "execution_count": null,
   "metadata": {},
   "outputs": [],
   "source": [
    "map_results = fitter.find_map_estimate(method=\"Powell\")\n",
    "map_results"
   ]
  },
  {
   "cell_type": "markdown",
   "metadata": {},
   "source": [
    "Then, MCMC is used to explore the parameter space and estimate the parameter uncertainties. For the purposes of making this notebook run quickly, this is only running for 10000 steps - you should run considerably more. `ravest` enforces a minimum of at least 2 walkers per each free parameter, again though you should consider running more. You should also consider using randomly initialised starting points, rather than the MAP solution, to better explore the parameter space."
   ]
  },
  {
   "cell_type": "code",
   "execution_count": null,
   "metadata": {},
   "outputs": [],
   "source": [
    "nwalkers = 2 * len(fitter.free_params_dict)\n",
    "nsteps = 10000\n",
    "\n",
    "# Fit the free parameters to the data\n",
    "fitter.run_mcmc(initial_values=map_results.x, nwalkers=nwalkers, nsteps=nsteps, progress=True)  # This will take a few minutes!"
   ]
  },
  {
   "cell_type": "markdown",
   "metadata": {},
   "source": [
    "Now that the MCMC is finished, the state of the `emcee` sampler has been saved into the `Fitter` object. We can therefore export the posteriro samples, as a `numpy` array that can be passed into other functions (such as for comparing two models by calculating the Bayesian evidence - example notebook coming soon!). We can also export them into a Pandas dataframe, which keeps each parameter labelled. In both cases, we can pass in the `discard`, `thin` and `flat` arguments as desired."
   ]
  },
  {
   "cell_type": "code",
   "execution_count": null,
   "metadata": {},
   "outputs": [],
   "source": [
    "# Get the samples as a numpy array\n",
    "samples = fitter.get_samples_np(discard_start=0, discard_end=0, thin=1, flat=False) # shape (nsteps, nwalkers, ndim)\n",
    "\n",
    "# Get the samples as a labelled Pandas dataframe\n",
    "samples_df = fitter.get_samples_df(discard_start=0, discard_end=0, thin=1)  # shape (nsteps*nwalkers, ndim)\n",
    "samples_df"
   ]
  },
  {
   "cell_type": "markdown",
   "metadata": {},
   "source": [
    "To inspect the chains visually, we can plot (and optionally save) the time series of each parameter in the chain."
   ]
  },
  {
   "cell_type": "code",
   "execution_count": null,
   "metadata": {},
   "outputs": [],
   "source": [
    "fitter.plot_chains(discard_start=0, discard_end=0, thin=1, save=False)"
   ]
  },
  {
   "cell_type": "markdown",
   "metadata": {},
   "source": [
    "We can also visualise the posterior parameter distributions in corner plots, using the `corner` module."
   ]
  },
  {
   "cell_type": "code",
   "execution_count": null,
   "metadata": {},
   "outputs": [],
   "source": [
    "fitter.plot_corner(discard_start=0, discard_end=0, thin=1, save=False)"
   ]
  },
  {
   "cell_type": "markdown",
   "metadata": {},
   "source": [
    "Inspecting the posteriors, we can see the 16th, 50th and 84th percentiles, which could be used for a quoted value and uncertainty. It's a good idea to inspect the posterior distribution visually with the corner plots though, as they may not always be nice Gaussians, which means those percentiles may not be a good representation. For further analysis and inspection, recall that we can get a dataframe of the samples (e.g. to plot them in a histogram to inspect the distribution closer) by using the `Fitter.get_samples_df()` method that we saw earlier."
   ]
  },
  {
   "cell_type": "markdown",
   "metadata": {},
   "source": [
    "Let's inspect how well our fitted solution matches the data. We take every sample in the chain and calculate the resultant RV. Then at every timestep, we can then look at the distribution of all the calculated velocities from each of the samples, and plotting the median, 16th and 84th percentile.\n",
    "  \n",
    "Here the chains are being thinned by 100 to ensure this notebook runs quickly. You may want a lower thinning factor."
   ]
  },
  {
   "cell_type": "code",
   "execution_count": null,
   "metadata": {},
   "outputs": [],
   "source": [
    "fitter.plot_posterior_rv(discard_start=0, discard_end=0, thin=100)"
   ]
  },
  {
   "cell_type": "code",
   "execution_count": null,
   "metadata": {},
   "outputs": [],
   "source": [
    "fitter.plot_posterior_phase(discard_start=0, discard_end=0, thin=100)"
   ]
  },
  {
   "cell_type": "markdown",
   "metadata": {},
   "source": [
    "To see the resulting planetary mass estimate $M_p\\sin{i}$, we need to know the stellar mass. Using the value $M_*=1.12\\pm0.05$ used in Dai et al. 2016, we can generate a "
   ]
  },
  {
   "cell_type": "code",
   "execution_count": null,
   "metadata": {},
   "outputs": [],
   "source": [
    "# Stellar mass values from Dai et al. 2016\n",
    "mstar_val = 1.12  # [M_sun]\n",
    "mstar_err = 0.05 # [M_sun]\n",
    "\n",
    "# Create a distribution of stellar mass values from the published value and uncertainty\n",
    "mstar = np.random.normal(loc=mstar_val, scale=mstar_err, size=len(samples_df))\n",
    "# Ensure all values in mstar are positive\n",
    "while any(mstar <= 0):\n",
    "    mstar[mstar <= 0] = np.random.normal(loc=mstar_val, scale=mstar_err, size=sum(mstar <= 0))"
   ]
  },
  {
   "cell_type": "code",
   "execution_count": null,
   "metadata": {},
   "outputs": [],
   "source": [
    "# get the posterior samples (both free and fixed) as a dictionary\n",
    "posterior_params = fitter.get_posterior_params_dict(discard_start=0, discard_end=0, thin=1)  # get the fixed value for fixed parameters, get the MCMC samples for the free parameters\n",
    "\n",
    "# use the MCMC samples and the stellar mass distribution to get a distribution for Mp sin(i)\n",
    "mpsini_b = calculate_mpsini(mstar, posterior_params[\"per_b\"], posterior_params[\"k_b\"], posterior_params[\"e_b\"], unit=\"M_earth\")\n",
    "mpsini_c = calculate_mpsini(mstar, posterior_params[\"per_c\"], posterior_params[\"k_c\"], posterior_params[\"e_c\"], unit=\"M_earth\")\n",
    "\n",
    "# calculate the median and 1-sigma uncertainties\n",
    "perc_b = np.percentile(mpsini_b, [16, 50, 84])\n",
    "perc_c = np.percentile(mpsini_c, [16, 50, 84])\n",
    "print(\"Planet b Mpsin(i):\", perc_b[1], \"+\", perc_b[1] - perc_b[0], \"-\", perc_b[2] - perc_b[1])\n",
    "print(\"Planet c Mpsin(i):\", perc_c[1], \"+\", perc_c[1] - perc_c[0], \"-\", perc_c[2] - perc_c[1])\n",
    "\n",
    "# Plot the mass posteriors for inspection\n",
    "plt.hist(mpsini_b, bins=15, histtype=\"step\")\n",
    "plt.hist(mpsini_c, bins=15, histtype=\"step\")\n",
    "plt.show()"
   ]
  },
  {
   "cell_type": "markdown",
   "metadata": {},
   "source": [
    "## Eccentric orbits"
   ]
  },
  {
   "cell_type": "markdown",
   "metadata": {},
   "source": [
    "Let's make a new `Fitter` object and fit for eccentricity. We'll fit in the $\\sqrt{e}\\cos{\\omega_\\star}$ and $\\sqrt{e}\\sin{\\omega_\\star}$ parameterisation "
   ]
  },
  {
   "cell_type": "code",
   "execution_count": null,
   "metadata": {},
   "outputs": [],
   "source": [
    "# Fit in the sqrt(e) parameterisation\n",
    "parameterisation_se = Parameterisation(\"per k secosw sesinw tc\")\n",
    "\n",
    "fitter_se = Fitter(planet_letters=[\"b\",\"c\"], parameterisation=parameterisation_se)\n",
    "fitter_se.add_data(time=data[\"time\"].to_numpy(), \n",
    "                   vel=data[\"vel\"].to_numpy(), \n",
    "                   verr=data[\"errvel\"].to_numpy(), \n",
    "                   t0=2420)\n",
    "print(fitter_se.t0)\n",
    "\n",
    "# Construct the params dict\n",
    "# These values will be used as your initial guess for the fit\n",
    "params_se = {\"per_b\": Parameter(20.8851, \"d\", fixed=True),\n",
    "            \"k_b\": Parameter(10, \"m/s\", fixed=False),\n",
    "            \"secosw_b\": Parameter(0, \"\", fixed=False),\n",
    "            \"sesinw_b\": Parameter(0, \"\", fixed=False),\n",
    "            \"tc_b\": Parameter(2072.7948, \"d\", fixed=True),\n",
    "\n",
    "            \"per_c\": Parameter(42.3633, \"d\", fixed=True),\n",
    "            \"k_c\": Parameter(10, \"m/s\", fixed=False),\n",
    "            \"secosw_c\": Parameter(0, \"\", fixed=False),\n",
    "            \"sesinw_c\": Parameter(0, \"\", fixed=False),\n",
    "            \"tc_c\": Parameter(2082.6251, \"d\", fixed=True),\n",
    "            \n",
    "            \"g\": Parameter(0, \"m/s\", fixed=False),\n",
    "            \"gd\": Parameter(0, \"m/s/day\", fixed=False),\n",
    "            \"gdd\": Parameter(0, \"m/s/day^2\", fixed=True),\n",
    "\n",
    "            \"jit\": Parameter(0, \"m/s\", fixed=False),\n",
    "            }\n",
    "\n",
    "fitter_se.params = params_se\n",
    "fitter_se.params"
   ]
  },
  {
   "cell_type": "code",
   "execution_count": null,
   "metadata": {},
   "outputs": [],
   "source": [
    "# Construct the priors dict. Every parameter that isn't fixed requires a prior.\n",
    "priors_se = {\n",
    "          \"k_b\": ravest.prior.Uniform(0,50),\n",
    "          \"secosw_b\": ravest.prior.Uniform(-np.sqrt(0.8), np.sqrt(0.8)),\n",
    "          \"sesinw_b\": ravest.prior.Uniform(-np.sqrt(0.8), np.sqrt(0.8)),\n",
    "\n",
    "          \"k_c\": ravest.prior.Uniform(0,50),\n",
    "          \"secosw_c\": ravest.prior.Uniform(-np.sqrt(0.8), np.sqrt(0.8)),\n",
    "          \"sesinw_c\": ravest.prior.Uniform(-np.sqrt(0.8), np.sqrt(0.8)),\n",
    "\n",
    "          \"g\": ravest.prior.Uniform(-10, 10),\n",
    "          \"gd\": ravest.prior.Uniform(-0.1, 0.1),\n",
    "          \"jit\": ravest.prior.Uniform(0, 5),\n",
    "        }\n",
    "\n",
    "fitter_se.priors = priors_se\n",
    "fitter_se.priors"
   ]
  },
  {
   "cell_type": "code",
   "execution_count": null,
   "metadata": {},
   "outputs": [],
   "source": [
    "map_results_se = fitter_se.find_map_estimate(method=\"Powell\")\n",
    "map_results_se"
   ]
  },
  {
   "cell_type": "code",
   "execution_count": null,
   "metadata": {},
   "outputs": [],
   "source": [
    "nwalkers = 2 * len(fitter_se.free_params_dict)\n",
    "nsteps = 10000\n",
    "\n",
    "# Fit the free parameters to the data\n",
    "samples_se = fitter_se.run_mcmc(initial_values=map_results_se.x, nwalkers=nwalkers, nsteps=nsteps, progress=True)  # This will take a while!"
   ]
  },
  {
   "cell_type": "code",
   "execution_count": null,
   "metadata": {},
   "outputs": [],
   "source": [
    "# Get the samples as a numpy array\n",
    "samples_se = fitter_se.get_samples_np(discard_start=0, discard_end=0, thin=1, flat=False) # shape (nsteps, nwalkers, ndim)\n",
    "\n",
    "# Get the samples as a labelled Pandas dataframe\n",
    "samples_df_se = fitter_se.get_samples_df(discard_start=0, discard_end=0, thin=1)  # shape (nsteps*nwalkers, ndim)\n",
    "samples_df_se"
   ]
  },
  {
   "cell_type": "code",
   "execution_count": null,
   "metadata": {},
   "outputs": [],
   "source": [
    "fitter_se.plot_chains(discard_start=0, discard_end=0, thin=1, save=False)"
   ]
  },
  {
   "cell_type": "code",
   "execution_count": null,
   "metadata": {},
   "outputs": [],
   "source": [
    "fitter_se.plot_corner(discard_start=0, discard_end=0, thin=1, save=False)"
   ]
  },
  {
   "cell_type": "code",
   "execution_count": null,
   "metadata": {},
   "outputs": [],
   "source": [
    "samples_df_se"
   ]
  },
  {
   "cell_type": "markdown",
   "metadata": {},
   "source": [
    "Let's inspect how well our fitted solution matches the data. Again we are thinning the chains just to keep this notebook running quickly."
   ]
  },
  {
   "cell_type": "code",
   "execution_count": null,
   "metadata": {},
   "outputs": [],
   "source": [
    "fitter_se.plot_posterior_rv(discard_start=0, discard_end=0, thin=100)"
   ]
  },
  {
   "cell_type": "code",
   "execution_count": null,
   "metadata": {},
   "outputs": [],
   "source": [
    "fitter_se.plot_posterior_phase(discard_start=0, discard_end=0, thin=100)"
   ]
  },
  {
   "cell_type": "markdown",
   "metadata": {},
   "source": [
    "Let's see how allowing for eccentric orbits affects the mass estimate $M_p\\sin{i}$. We will use the same stellar mass from Petigura et al. 2015."
   ]
  },
  {
   "cell_type": "code",
   "execution_count": null,
   "metadata": {},
   "outputs": [],
   "source": [
    "# Stellar mass values from Dai et al. 2016\n",
    "mstar_val = 1.12  # [M_sun]\n",
    "mstar_err = 0.05 # [M_sun]\n",
    "\n",
    "# Create a distribution of stellar mass values from the published value and uncertainty\n",
    "mstar = np.random.normal(loc=mstar_val, scale=mstar_err, size=len(samples_df_se))\n",
    "# Ensure all values in mstar are positive\n",
    "while any(mstar <= 0):\n",
    "    mstar[mstar <= 0] = np.random.normal(loc=mstar_val, scale=mstar_err, size=sum(mstar <= 0))"
   ]
  },
  {
   "cell_type": "code",
   "execution_count": null,
   "metadata": {},
   "outputs": [],
   "source": [
    "# get the posterior samples (both free and fixed) as a dictionary\n",
    "posterior_params_se = fitter_se.get_posterior_params_dict(discard_start=0, discard_end=0, thin=1)  # get the fixed value for fixed parameters, get the MCMC samples for the free parameters\n",
    "\n",
    "# we need to convert secosw and sesinw to e and w\n",
    "# let's do this using the parameterisation class, parameterisation_se\n",
    "posterior_params_se[\"e_b\"], posterior_params_se[\"w_b\"] = parameterisation_se.convert_secosw_sesinw_to_e_w(posterior_params_se[\"secosw_b\"], posterior_params_se[\"sesinw_b\"])\n",
    "# and the same for _c\n",
    "posterior_params_se[\"e_c\"], posterior_params_se[\"w_c\"] = parameterisation_se.convert_secosw_sesinw_to_e_w(posterior_params_se[\"secosw_c\"], posterior_params_se[\"sesinw_c\"])\n",
    "\n",
    "\n",
    "# use the MCMC samples and the stellar mass distribution to get a distribution for Mp sin(i)\n",
    "\n",
    "mpsini_b_se = calculate_mpsini(mstar, posterior_params_se[\"per_b\"], posterior_params_se[\"k_b\"], posterior_params_se[\"e_b\"], unit=\"M_earth\")\n",
    "mpsini_c_se = calculate_mpsini(mstar, posterior_params_se[\"per_c\"], posterior_params_se[\"k_c\"], posterior_params_se[\"e_c\"], unit=\"M_earth\")\n",
    "\n",
    "# calculate the median and 1-sigma uncertainties\n",
    "perc_b_se = np.percentile(mpsini_b_se, [16, 50, 84])\n",
    "perc_c_se = np.percentile(mpsini_c_se, [16, 50, 84])\n",
    "print(\"Planet b Mpsin(i):\", perc_b_se[1], \"+\", perc_b_se[1] - perc_b_se[0], \"-\", perc_b_se[2] - perc_b_se[1])\n",
    "print(\"Planet c Mpsin(i):\", perc_c_se[1], \"+\", perc_c_se[1] - perc_c_se[0], \"-\", perc_c_se[2] - perc_c_se[1])\n",
    "\n",
    "# Plot the mass posteriors for inspection\n",
    "plt.hist(mpsini_b_se, bins=15, histtype=\"step\")\n",
    "plt.hist(mpsini_c_se, bins=15, histtype=\"step\")\n",
    "plt.show()"
   ]
  }
 ],
 "metadata": {
  "language_info": {
   "codemirror_mode": {
    "name": "ipython",
    "version": 3
   },
   "file_extension": ".py",
   "mimetype": "text/x-python",
   "name": "python",
   "nbconvert_exporter": "python",
   "pygments_lexer": "ipython3",
   "version": "3.11.13"
  }
 },
 "nbformat": 4,
 "nbformat_minor": 4
}
